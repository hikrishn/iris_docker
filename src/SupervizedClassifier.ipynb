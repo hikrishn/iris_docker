{
 "cells": [
  {
   "cell_type": "markdown",
   "metadata": {},
   "source": [
    "# KNN Supervized Classifier to predict the type of Flower in Iris Data set"
   ]
  },
  {
   "cell_type": "code",
   "execution_count": 54,
   "metadata": {},
   "outputs": [],
   "source": [
    "# Import Libraries\n",
    "from scipy.stats import zscore\n",
    "import seaborn as sns\n",
    "import matplotlib.pyplot as plt\n",
    "# load the iris dataset\n",
    "from sklearn.datasets import load_iris\n",
    "from sklearn.model_selection import train_test_split\n",
    "from sklearn.neighbors import KNeighborsClassifier\n",
    "from sklearn import metrics\n",
    "#from sklearn.externals import joblib\n",
    "import joblib"
   ]
  },
  {
   "cell_type": "code",
   "execution_count": 62,
   "metadata": {
    "colab": {},
    "colab_type": "code",
    "id": "lHVEbWyO8VKG"
   },
   "outputs": [
    {
     "name": "stdout",
     "output_type": "stream",
     "text": [
      "kNN model's accuracy is: 0.9777777777777777\n",
      "Predicted targets: ['virginica', 'virginica']\n"
     ]
    },
    {
     "data": {
      "text/plain": [
       "['iris_knn.pkl']"
      ]
     },
     "execution_count": 62,
     "metadata": {},
     "output_type": "execute_result"
    }
   ],
   "source": [
    "# Load the sample data set\n",
    "iris = load_iris()\n",
    "# store the X-feature matrix and y-response vector\n",
    "X = iris.data\n",
    "y = iris.target\n",
    "\n",
    "# splitting X and y into training and testing data sets in 70:30\n",
    "X_train, X_test, y_train, y_test = train_test_split(X, y, test_size=0.30, random_state=1)\n",
    "\n",
    "# training the model on training set\n",
    "knn = KNeighborsClassifier(n_neighbors= 2 , weights = 'distance')\n",
    "knn.fit(X_train, y_train)\n",
    "\n",
    "# Enable predictions on the testing data set\n",
    "y_pred = knn.predict(X_test)\n",
    "\n",
    "# Verify Actual target values- y_test with predicted values - y_pred\n",
    "print(\"kNN model's accuracy is:\", metrics.accuracy_score(y_test, y_pred))\n",
    "\n",
    "# making prediction for out of sample data\n",
    "sample = [[3, 5, 4, 2], [6, 4, 8, 9]]\n",
    "preds = knn.predict(sample)\n",
    "pred_species = [iris.target_names[pred] for pred in preds]\n",
    "print(\"Predicted targets:\", pred_species)\n",
    "\n",
    "# saving the model to a pkl file\n",
    "joblib.dump(knn, 'iris_knn.pkl')\n"
   ]
  },
  {
   "cell_type": "markdown",
   "metadata": {},
   "source": [
    "# Evaluate Performance of kNN Model"
   ]
  },
  {
   "cell_type": "code",
   "execution_count": 56,
   "metadata": {
    "colab": {},
    "colab_type": "code",
    "id": "uVDCzJRM8VLO",
    "outputId": "646977cd-f626-4cac-d913-539fa2b1f412"
   },
   "outputs": [
    {
     "data": {
      "text/plain": [
       "0.9777777777777777"
      ]
     },
     "execution_count": 56,
     "metadata": {},
     "output_type": "execute_result"
    }
   ],
   "source": [
    "# predisted accuracy score\n",
    "\n",
    "predicted_labels = knn.predict(X_test)\n",
    "knn.score(X_test, y_test)"
   ]
  },
  {
   "cell_type": "code",
   "execution_count": 57,
   "metadata": {},
   "outputs": [
    {
     "name": "stdout",
     "output_type": "stream",
     "text": [
      "Confusion Matrix\n",
      "['setosa', 'versicolor', 'versicolor', 'setosa', 'virginica', 'versicolor', 'virginica', 'setosa', 'setosa', 'virginica', 'versicolor', 'setosa', 'virginica', 'versicolor', 'versicolor', 'setosa', 'versicolor', 'versicolor', 'setosa', 'setosa', 'versicolor', 'versicolor', 'versicolor', 'setosa', 'virginica', 'versicolor', 'setosa', 'setosa', 'versicolor', 'virginica', 'versicolor', 'virginica', 'versicolor', 'virginica', 'virginica', 'setosa', 'versicolor', 'setosa', 'versicolor', 'virginica', 'virginica', 'setosa', 'versicolor', 'virginica', 'versicolor']\n"
     ]
    },
    {
     "data": {
      "text/plain": [
       "<matplotlib.axes._subplots.AxesSubplot at 0x7fd30283cd60>"
      ]
     },
     "execution_count": 57,
     "metadata": {},
     "output_type": "execute_result"
    },
    {
     "data": {
      "image/png": "[encoded data removed]",
      "text/plain": [
       "<Figure size 576x432 with 2 Axes>"
      ]
     },
     "metadata": {
      "needs_background": "light"
     },
     "output_type": "display_data"
    }
   ],
   "source": [
    "#print(iris.target_names[y])\n",
    "\n",
    "# calculate accuracy measures and confusion matrix\n",
    "print(\"Confusion Matrix\")\n",
    "pred_species_l = [iris.target_names[pred_l] for pred_l in predicted_labels]\n",
    "print(pred_species_l)\n",
    "y_species_l = [iris.target_names[y_l] for y_l in y_test]\n",
    "cm=metrics.confusion_matrix(y_species_l, pred_species_l, labels=['setosa','versicolor','virginica'])\n",
    "\n",
    "df_cm = pd.DataFrame(cm, index = [i for i in ['setosa','versicolor','virginica']],\n",
    "                  columns = [i for i in [\"Predict setosa\",\"Predict versicolor\",\"Predict virginica\"]])\n",
    "plt.figure(figsize = (8,6))\n",
    "sns.heatmap(df_cm, annot=True)"
   ]
  },
  {
   "cell_type": "code",
   "execution_count": null,
   "metadata": {},
   "outputs": [],
   "source": []
  }
 ],
 "metadata": {
  "colab": {
   "name": "KNN+Breast+Cancer+Modeling.ipynb",
   "provenance": [],
   "version": "0.3.2"
  },
  "kernelspec": {
   "display_name": "Python 3",
   "language": "python",
   "name": "python3"
  },
  "language_info": {
   "codemirror_mode": {
    "name": "ipython",
    "version": 3
   },
   "file_extension": ".py",
   "mimetype": "text/x-python",
   "name": "python",
   "nbconvert_exporter": "python",
   "pygments_lexer": "ipython3",
   "version": "3.8.3"
  }
 },
 "nbformat": 4,
 "nbformat_minor": 1
}
